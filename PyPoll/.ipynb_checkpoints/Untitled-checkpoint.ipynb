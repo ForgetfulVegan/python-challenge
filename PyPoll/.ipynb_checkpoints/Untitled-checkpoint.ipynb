{
 "cells": [
  {
   "cell_type": "code",
   "execution_count": 2,
   "metadata": {},
   "outputs": [
    {
     "name": "stdout",
     "output_type": "stream",
     "text": [
      "['Khan' 'Correy' 'Li' \"O'Tooley\"]\n",
      "           Voter ID     %\n",
      "Candidate                \n",
      "Khan        2218231  0.63\n",
      "Correy       704200  0.20\n",
      "Li           492940  0.14\n",
      "O'Tooley     105630  0.03\n"
     ]
    }
   ],
   "source": [
    "import pandas as pd\n",
    "import numpy as np\n",
    "\n",
    "csvfile = pd.read_csv('election_data.csv')\n",
    "df = pd.DataFrame(csvfile)\n",
    "\n",
    "#drop unnecessary columns\n",
    "df = df.drop('County', axis=1)\n",
    "\n",
    "#group by cand\n",
    "group_df = df.groupby(['Candidate']).count()\n",
    "\n",
    "#votes per candidate\n",
    "def votes_per():\n",
    "    return group_df.sort_values(['Voter ID'], ascending = False)\n",
    "\n",
    "#show unique candidates\n",
    "print(df['Candidate'].unique())\n",
    "\n",
    "#total votes\n",
    "total_votes = group_df['Voter ID'].sum()\n",
    "\n",
    "group_df['%'] = group_df['Voter ID'] / total_votes\n",
    "print(group_df.sort_values(['Voter ID'], ascending = False))\n",
    "#winner index\n",
    "#winner_index = group_df['Voter ID'].idxmax()"
   ]
  },
  {
   "cell_type": "code",
   "execution_count": 5,
   "metadata": {},
   "outputs": [
    {
     "name": "stdout",
     "output_type": "stream",
     "text": [
      "Khan\n"
     ]
    }
   ],
   "source": [
    "#winner func\n",
    "def winner():\n",
    "    return group_df['Voter ID'].idxmax()\n",
    "print(winner())"
   ]
  },
  {
   "cell_type": "code",
   "execution_count": null,
   "metadata": {},
   "outputs": [],
   "source": []
  }
 ],
 "metadata": {
  "kernelspec": {
   "display_name": "Python 3",
   "language": "python",
   "name": "python3"
  },
  "language_info": {
   "codemirror_mode": {
    "name": "ipython",
    "version": 3
   },
   "file_extension": ".py",
   "mimetype": "text/x-python",
   "name": "python",
   "nbconvert_exporter": "python",
   "pygments_lexer": "ipython3",
   "version": "3.7.3"
  }
 },
 "nbformat": 4,
 "nbformat_minor": 2
}
